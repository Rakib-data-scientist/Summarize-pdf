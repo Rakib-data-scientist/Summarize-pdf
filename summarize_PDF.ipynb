{
  "nbformat": 4,
  "nbformat_minor": 0,
  "metadata": {
    "colab": {
      "provenance": []
    },
    "kernelspec": {
      "name": "python3",
      "display_name": "Python 3"
    },
    "language_info": {
      "name": "python"
    }
  },
  "cells": [
    {
      "cell_type": "code",
      "source": [
        "!pip install -q gradio openai pypdf tiktoken langchain"
      ],
      "metadata": {
        "id": "xvYm1Xa-qyez"
      },
      "execution_count": null,
      "outputs": []
    },
    {
      "cell_type": "code",
      "source": [
        "import os\n",
        "from pathlib import Path\n",
        "import gradio as gr\n",
        "from langchain import OpenAI, PromptTemplate\n",
        "from langchain.chains.summarize import load_summarize_chain\n",
        "from langchain.document_loaders import PyPDFLoader\n",
        "import tiktoken"
      ],
      "metadata": {
        "id": "__2WN8HDq_wD"
      },
      "execution_count": 4,
      "outputs": []
    },
    {
      "cell_type": "code",
      "execution_count": null,
      "metadata": {
        "id": "osCb7DMbqJsB"
      },
      "outputs": [],
      "source": [
        "# Configuration\n",
        "OPENAI_API_KEY = \"sk-61l36KGFBfmwgTu3jxWwT3BlbkFJw8GB3vh0\"\n",
        "TEMPERATURE = 0\n",
        "CHAIN_TYPE = \"map_reduce\"\n",
        "\n",
        "# Environment Variables\n",
        "os.environ[\"OPENAI_API_KEY\"] = OPENAI_API_KEY"
      ]
    },
    {
      "cell_type": "code",
      "source": [
        "def num_tokens_from_string(string: str, encoding_name: str) -> int:\n",
        "    encoding = tiktoken.get_encoding(encoding_name)\n",
        "    return len(encoding.encode(string))"
      ],
      "metadata": {
        "id": "6ZQvc0wWrerQ"
      },
      "execution_count": 7,
      "outputs": []
    },
    {
      "cell_type": "code",
      "source": [
        "def summarize_pdf(pdf_file_path: str) -> str:\n",
        "    loader = PyPDFLoader(pdf_file_path)\n",
        "    docs = loader.load_and_split()\n",
        "    chain = load_summarize_chain(OpenAI(temperature=TEMPERATURE), chain_type=CHAIN_TYPE)\n",
        "    return chain.run(docs)"
      ],
      "metadata": {
        "id": "QSegYLaMreuC"
      },
      "execution_count": 8,
      "outputs": []
    },
    {
      "cell_type": "code",
      "source": [
        "def launch_gradio_interface():\n",
        "    input_pdf_path = gr.components.Textbox(label=\"PDF path\")\n",
        "    output_summary = gr.components.Textbox(label=\"Summary\")\n",
        "\n",
        "    interface = gr.Interface(\n",
        "        fn=summarize_pdf,\n",
        "        inputs=input_pdf_path,\n",
        "        outputs=output_summary,\n",
        "        title=\"Summarize PDF\",\n",
        "        description=\"PDF path\",\n",
        "    )\n",
        "\n",
        "    interface.launch(share=True)\n",
        "\n",
        "if __name__ == \"__main__\":\n",
        "  launch_gradio_interface()"
      ],
      "metadata": {
        "colab": {
          "base_uri": "https://localhost:8080/",
          "height": 591
        },
        "id": "ILLsY4Ptrexc",
        "outputId": "181bcb4d-c8bf-4e07-dd7b-c4c0337fd85f"
      },
      "execution_count": 12,
      "outputs": [
        {
          "output_type": "stream",
          "name": "stdout",
          "text": [
            "Colab notebook detected. To show errors in colab notebook, set debug=True in launch()\n",
            "Running on public URL: https://12a4254f64c08fcb17.gradio.live\n",
            "\n",
            "This share link expires in 72 hours. For free permanent hosting and GPU upgrades, run `gradio deploy` from Terminal to deploy to Spaces (https://huggingface.co/spaces)\n"
          ]
        },
        {
          "output_type": "display_data",
          "data": {
            "text/plain": [
              "<IPython.core.display.HTML object>"
            ],
            "text/html": [
              "<div><iframe src=\"https://12a4254f64c08fcb17.gradio.live\" width=\"100%\" height=\"500\" allow=\"autoplay; camera; microphone; clipboard-read; clipboard-write;\" frameborder=\"0\" allowfullscreen></iframe></div>"
            ]
          },
          "metadata": {}
        }
      ]
    }
  ]
}